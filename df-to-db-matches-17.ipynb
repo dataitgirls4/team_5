{
 "metadata": {
  "language_info": {
   "codemirror_mode": {
    "name": "ipython",
    "version": 3
   },
   "file_extension": ".py",
   "mimetype": "text/x-python",
   "name": "python",
   "nbconvert_exporter": "python",
   "pygments_lexer": "ipython3",
   "version": "3.8.3-final"
  },
  "orig_nbformat": 2,
  "kernelspec": {
   "name": "python3",
   "display_name": "Python 3"
  }
 },
 "nbformat": 4,
 "nbformat_minor": 2,
 "cells": [
  {
   "source": [
    "# DataFrame to DB"
   ],
   "cell_type": "markdown",
   "metadata": {}
  },
  {
   "source": [
    "### 이 코드를 돌리기 전에 반드시 슬랙에서 논의 해주세요!"
   ],
   "cell_type": "markdown",
   "metadata": {}
  },
  {
   "cell_type": "code",
   "execution_count": 116,
   "metadata": {},
   "outputs": [],
   "source": [
    "import pandas as pd"
   ]
  },
  {
   "cell_type": "code",
   "execution_count": 117,
   "metadata": {},
   "outputs": [
    {
     "output_type": "execute_result",
     "data": {
      "text/plain": [
       "0        as-bws2\n",
       "1     as-pclps19\n",
       "2      as-pcs1as\n",
       "3      as-pcs1kr\n",
       "4      as-pcs2as\n",
       "5      as-pcs2kr\n",
       "6      as-pcs3as\n",
       "7      as-pcs3kr\n",
       "8       as-pcscs\n",
       "9     as-pnctest\n",
       "10      kr-bsc20\n",
       "11      kr-bws20\n",
       "12      kr-pgckq\n",
       "13      kr-pkc19\n",
       "14      kr-pkl18\n",
       "15      kr-pkl19\n",
       "16    kr-pwm18s1\n",
       "17      na-pgcgf\n",
       "18     na-pgcgr1\n",
       "19     na-pgcgr2\n",
       "20     na-pgcgr3\n",
       "21      na-pgcsf\n",
       "22         pai18\n",
       "23           NaN\n",
       "24           NaN\n",
       "Name: tournament_id, dtype: object"
      ]
     },
     "metadata": {},
     "execution_count": 117
    }
   ],
   "source": [
    "from chicken_dinner.models.tournament import Tournament\n",
    "from chicken_dinner.pubgapi import PUBG\n",
    "from chicken_dinner.pubgapi import PUBGCore\n",
    "\n",
    "api_key = 'PERSONAL API KEY'\n",
    "PUBG = PUBG(api_key=api_key, shard='pc-tournament', gzip=True)\n",
    "PUBGCore = PUBGCore(api_key=api_key, shard='pc-tournament', gzip=True)\n",
    "\n",
    "id = pd.read_csv(\"tournaments_list.csv\")\n",
    "id = id['tournament_id']\n",
    "id"
   ]
  },
  {
   "cell_type": "code",
   "execution_count": 90,
   "metadata": {},
   "outputs": [],
   "source": [
    "# ''안에 아이디 하나씩 넣기\n",
    "id_tor = 'kr-bsc20'\n",
    "\n",
    "# 괄호에 아이디 하나씩 넣기 *22\n",
    "tor = PUBG.tournament(id_tor)\n",
    "matchlist = tor.match_ids\n",
    "\n",
    "## NEEDED LIST\n",
    "# FIRST TABLE\n",
    "# match_info\n",
    "match_id = []\n",
    "created_at = []\n",
    "map_name = []\n",
    "duration = []\n",
    "telemetry_link = []\n",
    "\n",
    "# SECOND TABLE\n",
    "# match_participant\n",
    "player_id = []\n",
    "team_roster_id = []\n",
    "team_id = []\n",
    "team_rank = []\n",
    "match_id_2 = []\n",
    "# match_participant_stats\n",
    "participant_stats = []\n",
    "\n",
    "\n",
    "# EXTRACTING 'FOR'\n",
    "#for i in matchid_list :\n",
    "for i in matchlist :\n",
    "  # match_info\n",
    "  # match_id, created_at, map_name, duration, telemetry_link\n",
    "  match = PUBG.match(i)\n",
    "  match_id.append(match.id)\n",
    "  created_at.append(match.created_at)\n",
    "  map_name.append(match.map_name)\n",
    "  duration.append(match.duration)\n",
    "  telemetry_link.append(match.telemetry_url)\n",
    "\n",
    "  # match_participant\n",
    "  # match_id, player_id, team_roster_id, team_rank, team_id\n",
    "  rosters = match.rosters\n",
    "  for i in range(len(rosters)):\n",
    "    roster = rosters[i]\n",
    "    roster_participant = roster.participants\n",
    "    for i in range(len(roster_participant)):\n",
    "      participant = roster_participant[i]\n",
    "      match_id_2.append(match.id)\n",
    "      player_id.append(participant.name)\n",
    "      team_roster_id.append(roster.id)\n",
    "      team_rank.append(roster.stats['rank'])\n",
    "      team_id.append(roster.stats['team_id'])\n",
    "      # match_participant_stats\n",
    "      stats = participant.stats\n",
    "      participant_stats.append(stats)\n",
    "\n",
    "# MAKE DATAFRAME USING LISTS\n",
    "#match_pariticpant\n",
    "match_participant = pd.DataFrame({'match_id': match_id_2, 'player_id': player_id, 'team_roster_id': team_roster_id, 'team_id': team_id, 'team_rank': team_rank})\n",
    "\n",
    "#match_participant_stats\n",
    "match_participant_stats = pd.DataFrame(participant_stats).drop(columns='player_id')\n",
    "match_participant_stats['team_name'] = match_participant.player_id.str.split('_').str[0]\n",
    "match_participant_stats['player_name'] = match_participant.player_id.str.split('_').str[1]\n",
    "match_participant_stats['player_name'] = [i.upper() for i in match_participant_stats['player_name']]\n",
    "\n",
    "match_participant_stats = match_participant_stats.rename(columns={'name':'player_id'})\n",
    "\n",
    "#인덱스 기준으로 join\n",
    "match_participant_all = pd.merge(match_participant, match_participant_stats, how='inner', left_index=True, right_index=True)\n",
    "match_participant_all = match_participant_all.rename(columns={'player_id_x': 'player_id'})\n",
    "\n",
    "#[최종]matches_info\n",
    "match_info = pd.DataFrame({'match_id': match_id, 'created_at': created_at, 'map_name' : map_name, 'duration': duration})\n",
    "\n",
    "#[최종] result\n",
    "tournament_id = pd.DataFrame({'tournament_id': [id_tor for i in range(len(match_participant_all))]})\n",
    "\n",
    "match_participant_all = pd.merge(match_participant_all, tournament_id, how = \"left\", left_index=True, right_index=True)\n",
    "result = pd.merge(match_participant_all, match_info, on = 'match_id', how='left').drop_duplicates()\n",
    "\n",
    "result = result[['tournament_id', 'match_id', 'created_at', 'map_name', 'duration','team_rank', 'team_name', 'player_id', 'player_name', 'time_survived', 'death_type', 'kill_place', 'kills', 'dbnos', 'assists','damage_dealt', 'headshot_kills','longest_kill', 'road_kills', 'vehicle_destroys', 'weapons_acquired', 'boosts', 'heals', 'revives','ride_distance', 'swim_distance', 'walk_distance']].sort_values('created_at')"
   ]
  },
  {
   "cell_type": "code",
   "execution_count": 91,
   "metadata": {},
   "outputs": [],
   "source": [
    "import pymysql\n",
    "from sqlalchemy import create_engine\n",
    "pymysql.install_as_MySQLdb()\n",
    "import MySQLdb\n",
    "\n",
    "# DB 연결정보 넣기\n",
    "engine = create_engine(\"mysql+mysqldb://{User}:{Password}@{Host}:3306/{Database}}\", encoding='utf-8')\n",
    "conn = engine.connect()\n",
    "\n",
    "tournament_id = result.loc[0, \"tournament_id\"]\n",
    "table_name = f\"matches_{tournament_id}\"\n",
    "\n",
    "result.to_sql(name=table_name, con=engine, if_exists='append', index=False)"
   ]
  },
  {
   "source": [
    "## DB to DataFrame"
   ],
   "cell_type": "markdown",
   "metadata": {}
  },
  {
   "cell_type": "code",
   "execution_count": null,
   "metadata": {},
   "outputs": [],
   "source": [
    "# 업로드용\n",
    "import pandas as pd\n",
    "import numpy as np\n",
    "import pymysql\n",
    "conn = pymysql.connect(host = 'host',\n",
    "                       port = 3306,\n",
    "                       user = 'user',\n",
    "                       password = 'password',\n",
    "                       db = 'db')\n",
    "# SQL문법이 편하시면 이 부분에 쿼리를 넣으면, df가 그 결과를 보여줍니다\n",
    "# 혹은 이대로 가져오면 데이터프레임으로 나와서, 판다스 문법으로 써도 됩니다\n",
    "sql_input = \"select * from pcs3as_matches_info\"\n",
    "df = pd.read_sql_query(sql_input, conn)"
   ]
  }
 ]
}